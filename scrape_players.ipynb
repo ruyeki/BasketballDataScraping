{
 "cells": [
  {
   "cell_type": "code",
   "execution_count": 2,
   "metadata": {},
   "outputs": [],
   "source": [
    "from bs4 import BeautifulSoup\n",
    "import requests\n",
    "import pandas as pd"
   ]
  },
  {
   "cell_type": "code",
   "execution_count": null,
   "metadata": {},
   "outputs": [],
   "source": [
    "url = 'https://fullertontitans.com/sports/mens-basketball/stats'\n",
    "\n",
    "page = requests.get(url) #requests object\n",
    "\n",
    "soup = BeautifulSoup(page.text, 'html')"
   ]
  },
  {
   "cell_type": "code",
   "execution_count": null,
   "metadata": {},
   "outputs": [
    {
     "ename": "IndexError",
     "evalue": "list index out of range",
     "output_type": "error",
     "traceback": [
      "\u001b[0;31m---------------------------------------------------------------------------\u001b[0m",
      "\u001b[0;31mIndexError\u001b[0m                                Traceback (most recent call last)",
      "Cell \u001b[0;32mIn[9], line 1\u001b[0m\n\u001b[0;32m----> 1\u001b[0m table \u001b[38;5;241m=\u001b[39m \u001b[43msoup\u001b[49m\u001b[38;5;241;43m.\u001b[39;49m\u001b[43mfind_all\u001b[49m\u001b[43m(\u001b[49m\u001b[38;5;124;43m'\u001b[39;49m\u001b[38;5;124;43mtable\u001b[39;49m\u001b[38;5;124;43m'\u001b[39;49m\u001b[43m)\u001b[49m\u001b[43m[\u001b[49m\u001b[38;5;241;43m1\u001b[39;49m\u001b[43m]\u001b[49m\n\u001b[1;32m      2\u001b[0m \u001b[38;5;28mprint\u001b[39m(table)\n",
      "\u001b[0;31mIndexError\u001b[0m: list index out of range"
     ]
    }
   ],
   "source": [
    "table = soup.find_all('table')[1]\n",
    "print(table)"
   ]
  },
  {
   "cell_type": "code",
   "execution_count": 5,
   "metadata": {},
   "outputs": [
    {
     "name": "stdout",
     "output_type": "stream",
     "text": [
      "[<th class=\"text-left\" rowspan=\"2\" scope=\"col\">#</th>, <th class=\"text-hide\" rowspan=\"2\" scope=\"col\">Player</th>, <th rowspan=\"2\" scope=\"col\">GP</th>, <th rowspan=\"2\" scope=\"col\">GS</th>, <th rowspan=\"2\" scope=\"col\">PF</th>, <th rowspan=\"2\" scope=\"col\">AST</th>, <th rowspan=\"2\" scope=\"col\">TO</th>, <th rowspan=\"2\" scope=\"col\">STL</th>, <th rowspan=\"2\" scope=\"col\">BLK</th>, <th aria-hidden=\"true\" class=\"hide-on-large\" rowspan=\"2\" scope=\"col\">Bio Link</th>, <th scope=\"col\">TOT</th>, <th scope=\"col\">AVG</th>, <th scope=\"col\">FGM</th>, <th scope=\"col\">FGA</th>, <th scope=\"col\">FG%</th>, <th scope=\"col\">3PT</th>, <th scope=\"col\">3PTA</th>, <th scope=\"col\">3PT%</th>, <th scope=\"col\">FTM</th>, <th scope=\"col\">FTA</th>, <th scope=\"col\">FT%</th>, <th scope=\"col\">PTS</th>, <th scope=\"col\">AVG</th>, <th scope=\"col\">OFF</th>, <th scope=\"col\">DEF</th>, <th scope=\"col\">TOT</th>, <th scope=\"col\">AVG</th>]\n",
      "['#', 'Player', 'GP', 'GS', 'TOT', 'AVG', 'FGM', 'FGA', 'FG%', '3PT', '3PTA', '3PT%', 'FTM', 'FTA', 'FT%', 'PTS', 'AVG', 'OFF', 'DEF', 'TOT', 'AVG', 'PF', 'AST', 'TO', 'STL', 'BLK', 'Bio Link']\n"
     ]
    }
   ],
   "source": [
    "#ISSUE: COLUMNS ARE OUT OF ORDER\n",
    "#After #, GP, GS it goes out of order\n",
    "    #It jumps to \n",
    "\n",
    "#extract the table headers\n",
    "headers = table.find_all('th', attrs={\"scope\": \"col\"})\n",
    "print(headers)\n",
    "num_headers = len(headers)\n",
    "\n",
    "#loop through the headers\n",
    "table_headers = [title.text.strip() for title in headers]\n",
    "\n",
    "#Move these headers to the back of the list to fix the order\n",
    "headers_to_move = [\"PF\", \"AST\", \"AST/G\", \"TO\", \"STL\", \"BLK\", \"Bio Link\"]\n",
    "\n",
    "fixed_headers = [h for h in table_headers if h not in headers_to_move]  # Keep other headers in original order\n",
    "moved_headers = [h for h in table_headers if h in headers_to_move]  # Move these to the end\n",
    "\n",
    "# Combine lists to get the final order\n",
    "final_headers = fixed_headers + moved_headers\n",
    "print(final_headers)\n"
   ]
  },
  {
   "cell_type": "code",
   "execution_count": 6,
   "metadata": {},
   "outputs": [
    {
     "name": "stdout",
     "output_type": "stream",
     "text": [
      "['05', 'Oday, Donovan', '27', '16', '653', '24.2', '119', '268', '.444', '19', '58', '.328', '105', '138', '.761', '362', '13.4', '21', '120', '141', '5.2', '62', '32', '56', '26', '3', 'View Bio']\n",
      "['32', '32 Square, John Mikey', '20', '16', '449', '22.5', '47', '78', '.603', '0', '0', '.000', '63', '75', '.840', '157', '7.9', '38', '30', '68', '3.4', '47', '25', '20', '11', '12', 'View Bio']\n",
      "['11', 'Richardson, Zion', '21', '4', '376', '17.9', '47', '107', '.439', '24', '70', '.343', '41', '49', '.837', '159', '7.6', '17', '53', '70', '3.3', '39', '18', '23', '12', '1', 'View Bio']\n",
      "['03', 'Young, Kobe', '21', '14', '508', '24.2', '58', '145', '.400', '8', '38', '.211', '33', '55', '.600', '157', '7.5', '34', '79', '113', '5.4', '29', '9', '37', '8', '3', 'View Bio']\n",
      "['01', 'Richard, Keith', '25', '16', '536', '21.4', '62', '165', '.376', '19', '67', '.284', '40', '49', '.816', '183', '7.3', '4', '37', '41', '1.6', '52', '28', '46', '21', '3', 'View Bio']\n",
      "['13', 'Brown, Kaleb', '26', '10', '541', '20.8', '52', '138', '.377', '15', '57', '.263', '44', '59', '.746', '163', '6.3', '12', '61', '73', '2.8', '43', '45', '58', '16', '2', 'View Bio']\n",
      "['12', 'Visentin, Zachary', '25', '8', '382', '15.3', '49', '95', '.516', '0', '1', '.000', '56', '70', '.800', '154', '6.2', '34', '33', '67', '2.7', '51', '14', '27', '5', '6', 'View Bio']\n",
      "['07', 'Bynum, Davis', '11', '1', '150', '13.6', '23', '60', '.383', '9', '24', '.375', '6', '9', '.667', '61', '5.5', '11', '21', '32', '2.9', '17', '6', '9', '9', '3', 'View Bio']\n",
      "['10', 'Robinson, Antwan', '25', '14', '536', '21.4', '43', '161', '.267', '24', '116', '.207', '22', '27', '.815', '132', '5.3', '13', '49', '62', '2.5', '37', '14', '28', '13', '1', 'View Bio']\n",
      "['24', '24 De Luna, Kendrick', '27', '20', '620', '23.0', '56', '119', '.471', '0', '0', '.000', '19', '35', '.543', '131', '4.9', '27', '39', '66', '2.4', '66', '14', '41', '17', '15', 'View Bio']\n",
      "['02', 'Cooper, Freddie', '8', '3', '76', '9.5', '7', '26', '.269', '4', '13', '.308', '5', '6', '.833', '23', '2.9', '1', '6', '7', '0.9', '17', '3', '6', '7', '1', 'View Bio']\n",
      "['22', 'Rudolph, LoLo', '27', '13', '570', '21.1', '16', '52', '.308', '5', '23', '.217', '23', '37', '.622', '60', '2.2', '11', '53', '64', '2.4', '49', '33', '31', '9', '2', 'View Bio']\n",
      "['TM', 'TM Team', '27', '0', '0', '0.0', '0', '0', '.000', '0', '0', '.000', '0', '0', '.000', '0', '0.0', '34', '43', '77', '2.9', '0', '0', '13', '0', '0', '']\n",
      "['14', 'Tilahun, Simon', '1', '0', '3', '3.0', '0', '2', '.000', '0', '2', '.000', '0', '0', '.000', '0', '0.0', '0', '0', '0', '0.0', '0', '0', '0', '0', '0', 'View Bio']\n",
      "['', 'Total', '27', '', '5400', '200.0', '579', '1416', '.409', '127', '469', '.271', '457', '609', '.750', '1742', '64.52', '257', '624', '881', '32.6', '509', '241', '395', '154', '52', '']\n",
      "['', 'Opponents', '27', '', '5400', '200.0', '698', '1547', '.451', '230', '678', '.339', '423', '565', '.749', '2049', '75.89', '288', '664', '952', '35.3', '535', '390', '329', '220', '85', '']\n"
     ]
    }
   ],
   "source": [
    "#Extract data for columns\n",
    "column_data = table.find_all('tr')\n",
    "df = pd.DataFrame(columns = final_headers)\n",
    "\n",
    "for row in column_data[2:]: \n",
    "    row_data = row.find_all('td')\n",
    "    individual_row_data = [data.get_text(separator = \" \").strip() for data in row_data]\n",
    "    individual_row_data[1] = \" \".join(individual_row_data[1].split()).split(\" \", 1)[-1]\n",
    "    if len(individual_row_data) > 1:\n",
    "        words = individual_row_data[1].split()  # Split into words\n",
    "    if len(words) > 2:  \n",
    "        individual_row_data[1] = \" \".join(words[2:])  # Keep everything after the first two words\n",
    "        \n",
    "    print(individual_row_data)\n",
    "    \n",
    "    length = len(df)\n",
    "    df.loc[length] = individual_row_data\n",
    "\n",
    "\n"
   ]
  },
  {
   "cell_type": "code",
   "execution_count": 7,
   "metadata": {},
   "outputs": [],
   "source": [
    "df\n",
    "\n",
    "#Export this into a csv\n",
    "df.to_csv(r'/Users/ryanuyeki/Downloads/asa/csuf_player_stats.csv', index=False, encoding = \"utf-8\")"
   ]
  }
 ],
 "metadata": {
  "kernelspec": {
   "display_name": "Python 3",
   "language": "python",
   "name": "python3"
  },
  "language_info": {
   "codemirror_mode": {
    "name": "ipython",
    "version": 3
   },
   "file_extension": ".py",
   "mimetype": "text/x-python",
   "name": "python",
   "nbconvert_exporter": "python",
   "pygments_lexer": "ipython3",
   "version": "3.12.2"
  }
 },
 "nbformat": 4,
 "nbformat_minor": 2
}
